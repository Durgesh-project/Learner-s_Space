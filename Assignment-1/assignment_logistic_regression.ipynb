{
 "cells": [
  {
   "cell_type": "markdown",
   "metadata": {
    "id": "wNEUsAHHCGk2"
   },
   "source": [
    "##ASSIGNMENT\n",
    "#Dataset\n",
    "Assume you are a scientist who is trying to make a propellent and is trying many tests to make an efficient propellent .\n",
    "<br>\n",
    "You have performed two tests.\n",
    "<br>\n",
    "From the two tests you would like whether this propellent works efficiently or not.\n",
    "Build your own logistic regression model to decide .\n",
    "<br>\n",
    "Text with \"DO NOT EDIT THIS CODE\" needs to be only run do not edit it\n"
   ]
  },
  {
   "cell_type": "code",
   "execution_count": 72,
   "metadata": {
    "id": "xJm_XXJo4RDg"
   },
   "outputs": [],
   "source": [
    "#import libraries\n",
    "#write your code.\n",
    "import numpy as np\n",
    "import pandas as pd\n",
    "from matplotlib import pyplot as plt\n",
    "import math"
   ]
  },
  {
   "cell_type": "code",
   "execution_count": 73,
   "metadata": {
    "id": "YtL0jW6m4e1A"
   },
   "outputs": [],
   "source": [
    "#load data\n",
    "data=np.loadtxt(\"data.txt\", delimiter=',')\n",
    "X=data[:,:2]\n",
    "y=data[:,2]\n",
    "X_train=X\n",
    "y_train=y"
   ]
  },
  {
   "cell_type": "code",
   "execution_count": 74,
   "metadata": {
    "id": "Bk2qYHyk4mNm"
   },
   "outputs": [],
   "source": [
    "#plot data to visualise\n",
    "def plot_data(X,y,positive_label=\"y=1\", negative_label=\"y=0\"):\n",
    "#positive_label and negative_label refers to classes of y as y can be 0 or 1\n",
    "    positive = y == 1\n",
    "    negative = y == 0\n",
    "    plt.plot(X[positive, 0], X[positive, 1], 'k+', label=positive_label)\n",
    "    plt.plot(X[negative, 0], X[negative, 1], 'yo', label=negative_label)\n",
    "#While plotting graph the label parameter will be either positive_label or negative_label so plot both the labels for"
   ]
  },
  {
   "cell_type": "code",
   "execution_count": 75,
   "metadata": {
    "id": "RzsMdrwv58tQ"
   },
   "outputs": [
    {
     "data": {
      "image/png": "[encoded data removed]",
      "text/plain": [
       "<Figure size 640x480 with 1 Axes>"
      ]
     },
     "metadata": {},
     "output_type": "display_data"
    }
   ],
   "source": [
    "#test\n",
    "plot_data(X_train, y_train[:], positive_label=\"Accepted\", negative_label=\"Rejected\")\n",
    "\n",
    "\n",
    "plt.xlabel('Test 2')\n",
    "plt.ylabel('Test 1')\n",
    "plt.legend(loc=\"upper right\")\n",
    "plt.show()"
   ]
  },
  {
   "cell_type": "code",
   "execution_count": 76,
   "metadata": {
    "id": "KhRBdaFi6nKo"
   },
   "outputs": [],
   "source": [
    "#feature mapping\n",
    "def map_feature(X1,X2):\n",
    "  X1=np.atleast_1d(X1)\n",
    "  X2=np.atleast_1d(X2)\n",
    "  degree=2\n",
    "  out=[]\n",
    "  for i in range(1,degree+1):\n",
    "    for j in range(i+1):\n",
    "      out.append((X1**(i-j) * (X2**j)))\n",
    "  return np.stack(out, axis=1)"
   ]
  },
  {
   "cell_type": "code",
   "execution_count": 77,
   "metadata": {
    "id": "PNS4kJfq6_m8"
   },
   "outputs": [
    {
     "name": "stdout",
     "output_type": "stream",
     "text": [
      "Original shape of data: (118, 2)\n",
      "Shape after feature mapping: (118, 5)\n"
     ]
    }
   ],
   "source": [
    "print(\"Original shape of data:\", X_train.shape)\n",
    "\n",
    "mapped_X =  map_feature(X_train[:, 0], X_train[:, 1])\n",
    "print(\"Shape after feature mapping:\", mapped_X.shape)"
   ]
  },
  {
   "cell_type": "code",
   "execution_count": 78,
   "metadata": {
    "cellView": "form",
    "id": "BqlxZOXoHh4z"
   },
   "outputs": [],
   "source": [
    "# @title DO NOT EDIT THIS CODE\n",
    "def sigmoid_test(target):\n",
    "    assert np.isclose(target(3.0), 0.9525741268224334), \"Failed for scalar input\"\n",
    "    assert np.allclose(target(np.array([2.5, 0])), [0.92414182, 0.5]), \"Failed for 1D array\"\n",
    "    assert np.allclose(target(np.array([[2.5, -2.5], [0, 1]])),\n",
    "                       [[0.92414182, 0.07585818], [0.5, 0.73105858]]), \"Failed for 2D array\"\n",
    "    print('\\033[92mTests passed!')"
   ]
  },
  {
   "cell_type": "code",
   "execution_count": 79,
   "metadata": {
    "id": "wdgE-ay07C0P"
   },
   "outputs": [],
   "source": [
    "#sigmoid function\n",
    "def sigmoid(z):\n",
    "#write your code\n",
    "    function = 1/(1 + np.exp(-z))\n",
    "    return function\n",
    "\n"
   ]
  },
  {
   "cell_type": "code",
   "execution_count": 80,
   "metadata": {
    "id": "9XOlXXyxHnmB"
   },
   "outputs": [
    {
     "name": "stdout",
     "output_type": "stream",
     "text": [
      "\u001b[92mTests passed!\n"
     ]
    }
   ],
   "source": [
    "sigmoid_test(sigmoid)\n"
   ]
  },
  {
   "cell_type": "code",
   "execution_count": 81,
   "metadata": {
    "cellView": "form",
    "id": "QLqfyxPrH-v-"
   },
   "outputs": [],
   "source": [
    "# @title DO NOT EDIT THIS CODE\n",
    "def compute_cost_test(target):\n",
    "    X = np.array([[0, 0, 0, 0]]).T\n",
    "    y = np.array([0, 0, 0, 0])\n",
    "    w = np.array([0])\n",
    "    b = 1\n",
    "    result = target(X, y, w, b)\n",
    "    if math.isinf(result):\n",
    "        raise ValueError(\"Did you get the sigmoid of z_wb?\")\n",
    "\n",
    "    np.random.seed(17)\n",
    "    X = np.random.randn(5, 2)\n",
    "    y = np.array([1, 0, 0, 1, 1])\n",
    "    w = np.random.randn(2)\n",
    "    b = 0\n",
    "    result = target(X, y, w, b)\n",
    "    assert np.isclose(result, 2.15510667), f\"Wrong output. Expected: {2.15510667} got: {result}\"\n",
    "\n",
    "    X = np.random.randn(4, 3)\n",
    "    y = np.array([1, 1, 0, 0])\n",
    "    w = np.random.randn(3)\n",
    "    b = 0\n",
    "\n",
    "    result = target(X, y, w, b)\n",
    "    assert np.isclose(result, 0.80709376), f\"Wrong output. Expected: {0.80709376} got: {result}\"\n",
    "\n",
    "    X = np.random.randn(4, 3)\n",
    "    y = np.array([1, 0,1, 0])\n",
    "    w = np.random.randn(3)\n",
    "    b = 3\n",
    "    result = target(X, y, w, b)\n",
    "    assert np.isclose(result, 0.4529660647), f\"Wrong output. Expected: {0.4529660647} got: {result}. Did you inizialized z_wb = b?\"\n",
    "\n",
    "    print('\\033[92mTests passed!')"
   ]
  },
  {
   "cell_type": "code",
   "execution_count": 82,
   "metadata": {
    "id": "PRIqcpJ17MzH"
   },
   "outputs": [],
   "source": [
    "#computing cost\n",
    "def compute_cost(X,y,w,b,lambda_=1):\n",
    "#write your code\n",
    "  z = np.dot(X, w) + b\n",
    "  y_hat = sigmoid(z)\n",
    "  m = len(y)\n",
    "  total_cost = -((np.sum(y*np.log(y_hat) + (1 - y)*np.log(1-y_hat)))/(m))\n",
    "  return total_cost"
   ]
  },
  {
   "cell_type": "code",
   "execution_count": 83,
   "metadata": {
    "id": "MPOvLzL5H5-5"
   },
   "outputs": [
    {
     "name": "stdout",
     "output_type": "stream",
     "text": [
      "Cost at test w,b: 11.777\n",
      "\u001b[92mTests passed!\n"
     ]
    }
   ],
   "source": [
    "test_w = np.array([0.2, 0.2])\n",
    "test_b = -24.\n",
    "cost = compute_cost(X_train, y_train, test_w, test_b)\n",
    "\n",
    "print('Cost at test w,b: {:.3f}'.format(cost))\n",
    "\n",
    "\n",
    "# test\n",
    "compute_cost_test(compute_cost)"
   ]
  },
  {
   "cell_type": "code",
   "execution_count": 84,
   "metadata": {
    "id": "ULkWUBkO7ffh"
   },
   "outputs": [],
   "source": [
    "#compute regularised cost\n",
    "def compute_cost_reg(X, y, w, b, lambda_ = 1):\n",
    "#write your code\n",
    "  m = X.shape[0]\n",
    "  regularization_term = (lambda_*np.sum(w**2)/(2*m))\n",
    "  total_cost = compute_cost(X,y,w,b,lambda_) + regularization_term\n",
    "  return total_cost"
   ]
  },
  {
   "cell_type": "code",
   "execution_count": 85,
   "metadata": {
    "cellView": "form",
    "id": "OhFbPakDGKQj"
   },
   "outputs": [],
   "source": [
    "# @title DO NOT EDIT THIS CODE\n",
    "def compute_cost_reg_test(target):\n",
    "    np.random.seed(1)\n",
    "    w = np.random.randn(3)\n",
    "    b = 0.4\n",
    "    X = np.random.randn(6, 3)\n",
    "    y = np.array([0, 1, 1, 0, 1, 1])\n",
    "    lambda_ = 0.1\n",
    "    expected_output = target(X, y, w, b, lambda_)\n",
    "\n",
    "    assert np.isclose(expected_output, 0.5469746792761936), f\"Wrong output. Expected: {0.5469746792761936} got:{expected_output}\"\n",
    "\n",
    "    w = np.random.randn(5)\n",
    "    b = -0.6\n",
    "    X = np.random.randn(8, 5)\n",
    "    y = np.array([1, 0, 1, 0, 0, 1, 0, 1])\n",
    "    lambda_ = 0.01\n",
    "    output = target(X, y, w, b, lambda_)\n",
    "    assert np.isclose(output, 1.2608591964119995), f\"Wrong output. Expected: {1.2608591964119995} got:{output}\"\n",
    "\n",
    "    w = np.array([2, 2, 2, 2, 2])\n",
    "    b = 0\n",
    "    X = np.zeros((8, 5))\n",
    "    y = np.array([0.5] * 8)\n",
    "    lambda_ = 3\n",
    "    output = target(X, y, w, b, lambda_)\n",
    "    expected = -np.log(0.5) + 3. / (2. * 8.) * 20.\n",
    "    assert np.isclose(output, expected), f\"Wrong output. Expected: {expected} got:{output}\"\n",
    "\n",
    "    print('\\033[92mAll tests passed!')"
   ]
  },
  {
   "cell_type": "code",
   "execution_count": 86,
   "metadata": {
    "id": "jO14e7OD7syR"
   },
   "outputs": [
    {
     "name": "stdout",
     "output_type": "stream",
     "text": [
      "Regularised cost : 0.6714306439302397\n",
      "\u001b[92mAll tests passed!\n"
     ]
    }
   ],
   "source": [
    "X_mapped = map_feature(X_train[:, 0], X_train[:, 1])\n",
    "np.random.seed(1)\n",
    "initial_w = np.random.rand(X_mapped.shape[1]) - 0.5\n",
    "initial_b = 0.5\n",
    "lambda_ = 0.5\n",
    "cost = compute_cost_reg(X_mapped, y_train, initial_w, initial_b, lambda_)\n",
    "\n",
    "print(\"Regularised cost :\", cost)\n",
    "\n",
    "#test\n",
    "compute_cost_reg_test(compute_cost_reg)"
   ]
  },
  {
   "cell_type": "code",
   "execution_count": 87,
   "metadata": {
    "cellView": "form",
    "id": "plQBUPM2IRei"
   },
   "outputs": [],
   "source": [
    "# @title DO NOT EDIT THIS CODE\n",
    "def compute_gradient_test(target):\n",
    "    np.random.seed(1)\n",
    "    X = np.random.randn(7, 3)\n",
    "    y = np.array([1, 0, 1, 0, 1, 1, 0])\n",
    "    test_w = np.array([1, 0.5, -0.35])\n",
    "    test_b = 1.7\n",
    "    dj_db, dj_dw  = target(X, y, test_w, test_b)\n",
    "\n",
    "    assert np.isclose(dj_db, 0.28936094), f\"Wrong value for dj_db. Expected: {0.28936094} got: {dj_db}\"\n",
    "    assert dj_dw.shape == test_w.shape, f\"Wrong shape for dj_dw. Expected: {test_w.shape} got: {dj_dw.shape}\"\n",
    "    assert np.allclose(dj_dw, [-0.11999166, 0.41498775, -0.71968405]), f\"Wrong values for dj_dw. Got: {dj_dw}\"\n",
    "\n",
    "    print('\\033[92mTests passed!')"
   ]
  },
  {
   "cell_type": "code",
   "execution_count": 88,
   "metadata": {
    "id": "v27SzhYX8-ug"
   },
   "outputs": [],
   "source": [
    "#compute gradient\n",
    "def compute_gradient(X, y, w, b, lambda_=None):\n",
    "#write your code\n",
    "  z = np.dot(X, w) + b\n",
    "  y_hat = sigmoid(z)\n",
    "  m = len(y)\n",
    "  dj_db = -(np.sum(y - y_hat))/(m)\n",
    "  dj_dw = -(np.dot((y - y_hat) , X))/(m) \n",
    "  return dj_db,dj_dw"
   ]
  },
  {
   "cell_type": "code",
   "execution_count": 89,
   "metadata": {
    "id": "WLmFL2yuIPUA"
   },
   "outputs": [
    {
     "name": "stdout",
     "output_type": "stream",
     "text": [
      "dj_db at test_w: -0.4915254236924827\n",
      "dj_dw at test_w: [-0.008601361012465367, -0.09147300847306211]\n",
      "\u001b[92mTests passed!\n"
     ]
    }
   ],
   "source": [
    "test_w = np.array([ 0.2, -0.5])\n",
    "test_b = -24\n",
    "dj_db, dj_dw  = compute_gradient(X_train, y_train, test_w, test_b)\n",
    "\n",
    "print('dj_db at test_w:', dj_db)\n",
    "print('dj_dw at test_w:', dj_dw.tolist())\n",
    "\n",
    "# test\n",
    "compute_gradient_test(compute_gradient)"
   ]
  },
  {
   "cell_type": "code",
   "execution_count": 90,
   "metadata": {
    "id": "TGfUArz09TMl"
   },
   "outputs": [],
   "source": [
    "#compute regularised gradient\n",
    "def compute_gradient_reg(X, y, w, b, lambda_=1):\n",
    "#write your code\n",
    "  m = len(y)\n",
    "  dj_db, dj_dw = compute_gradient(X, y, w, b)\n",
    "  regularized_dj_dw = (lambda_*w)/(m)\n",
    "  dj_dw += regularized_dj_dw\n",
    "  return dj_db,dj_dw"
   ]
  },
  {
   "cell_type": "code",
   "execution_count": 91,
   "metadata": {
    "cellView": "form",
    "id": "KNRCWIc8G2cp"
   },
   "outputs": [],
   "source": [
    "# @title DO NOT EDIT THIS CODE\n",
    "def compute_gradient_reg_test(target):\n",
    "    np.random.seed(1)\n",
    "    w = np.random.randn(5)\n",
    "    b = 0.2\n",
    "    X = np.random.randn(7, 5)\n",
    "    y = np.array([0, 1, 1, 0, 1, 1, 0])\n",
    "    lambda_ = 0.1\n",
    "    expected1 = (-0.1506447567869257, np.array([ 0.19530838, -0.00632206,  0.19687367,  0.15741161,  0.02791437]))\n",
    "    dj_db, dj_dw = target(X, y, w, b, lambda_)\n",
    "\n",
    "    assert np.isclose(dj_db, expected1[0]), f\"Wrong dj_db. Expected: {expected1[0]} got: {dj_db}\"\n",
    "    assert np.allclose(dj_dw, expected1[1]), f\"Wrong dj_dw. Expected: {expected1[1]} got: {dj_dw}\"\n",
    "\n",
    "\n",
    "    w = np.random.randn(7)\n",
    "    b = 0\n",
    "    X = np.random.randn(7, 7)\n",
    "    y = np.array([1, 0, 0, 0, 1, 1, 0])\n",
    "    lambda_ = 0\n",
    "    expected2 = (0.02660329857573818, np.array([ 0.23567643, -0.06921029, -0.19705212, -0.0002884 ,  0.06490588,\n",
    "        0.26948175,  0.10777992]))\n",
    "    dj_db, dj_dw = target(X, y, w, b, lambda_)\n",
    "    assert np.isclose(dj_db, expected2[0]), f\"Wrong dj_db. Expected: {expected2[0]} got: {dj_db}\"\n",
    "    assert np.allclose(dj_dw, expected2[1]), f\"Wrong dj_dw. Expected: {expected2[1]} got: {dj_dw}\"\n",
    "\n",
    "    print('\\033[92mTests passed!')"
   ]
  },
  {
   "cell_type": "code",
   "execution_count": 92,
   "metadata": {
    "id": "3_of_BHJ9hEc"
   },
   "outputs": [
    {
     "name": "stdout",
     "output_type": "stream",
     "text": [
      "dj_db: 0.08506126158155773\n",
      "\u001b[92mTests passed!\n"
     ]
    }
   ],
   "source": [
    "X_mapped = map_feature(X_train[:, 0], X_train[:, 1])\n",
    "np.random.seed(1)\n",
    "initial_w  = np.random.rand(X_mapped.shape[1]) - 0.5\n",
    "initial_b = 0.5\n",
    "\n",
    "lambda_ = 0.5\n",
    "dj_db, dj_dw = compute_gradient_reg(X_mapped, y_train, initial_w, initial_b, lambda_)\n",
    "\n",
    "print(f\"dj_db: {dj_db}\" )\n",
    "#test\n",
    "compute_gradient_reg_test(compute_gradient_reg)"
   ]
  },
  {
   "cell_type": "code",
   "execution_count": 93,
   "metadata": {
    "id": "c5y3Nb9Z_SC4"
   },
   "outputs": [
    {
     "name": "stdout",
     "output_type": "stream",
     "text": [
      "for iteration: 0, J = 0.6564242059864474\n",
      "for iteration: 1, J = 0.6564066512999414\n",
      "for iteration: 2, J = 0.6563891111180513\n",
      "for iteration: 3, J = 0.6563715854263077\n",
      "for iteration: 4, J = 0.6563540742102698\n",
      "for iteration: 5, J = 0.6563365774555225\n",
      "for iteration: 6, J = 0.6563190951476763\n",
      "for iteration: 7, J = 0.6563016272723685\n",
      "for iteration: 8, J = 0.656284173815263\n",
      "for iteration: 9, J = 0.6562667347620484\n",
      "for iteration: 10, J = 0.6562493100984402\n",
      "for iteration: 11, J = 0.656231899810179\n",
      "for iteration: 12, J = 0.6562145038830312\n",
      "for iteration: 13, J = 0.6561971223027888\n",
      "for iteration: 14, J = 0.65617975505527\n",
      "for iteration: 15, J = 0.6561624021263165\n",
      "for iteration: 16, J = 0.6561450635017972\n",
      "for iteration: 17, J = 0.6561277391676048\n",
      "for iteration: 18, J = 0.656110429109658\n",
      "for iteration: 19, J = 0.6560931333139002\n",
      "for iteration: 20, J = 0.6560758517662991\n",
      "for iteration: 21, J = 0.6560585844528478\n",
      "for iteration: 22, J = 0.6560413313595641\n",
      "for iteration: 23, J = 0.6560240924724897\n",
      "for iteration: 24, J = 0.6560068677776919\n",
      "for iteration: 25, J = 0.6559896572612617\n",
      "for iteration: 26, J = 0.6559724609093142\n",
      "for iteration: 27, J = 0.6559552787079888\n",
      "for iteration: 28, J = 0.6559381106434498\n",
      "for iteration: 29, J = 0.655920956701885\n",
      "for iteration: 30, J = 0.6559038168695054\n",
      "for iteration: 31, J = 0.6558866911325473\n",
      "for iteration: 32, J = 0.6558695794772694\n",
      "for iteration: 33, J = 0.655852481889955\n",
      "for iteration: 34, J = 0.655835398356911\n",
      "for iteration: 35, J = 0.655818328864467\n",
      "for iteration: 36, J = 0.6558012733989769\n",
      "for iteration: 37, J = 0.6557842319468169\n",
      "for iteration: 38, J = 0.6557672044943877\n",
      "for iteration: 39, J = 0.6557501910281117\n",
      "for iteration: 40, J = 0.6557331915344362\n",
      "for iteration: 41, J = 0.6557162059998296\n",
      "for iteration: 42, J = 0.6556992344107844\n",
      "for iteration: 43, J = 0.6556822767538153\n",
      "for iteration: 44, J = 0.6556653330154602\n",
      "for iteration: 45, J = 0.6556484031822788\n",
      "for iteration: 46, J = 0.6556314872408546\n",
      "for iteration: 47, J = 0.6556145851777927\n",
      "for iteration: 48, J = 0.6555976969797206\n",
      "for iteration: 49, J = 0.6555808226332885\n",
      "for iteration: 50, J = 0.6555639621251683\n",
      "for iteration: 51, J = 0.6555471154420549\n",
      "for iteration: 52, J = 0.6555302825706643\n",
      "for iteration: 53, J = 0.6555134634977346\n",
      "for iteration: 54, J = 0.6554966582100268\n",
      "for iteration: 55, J = 0.6554798666943231\n",
      "for iteration: 56, J = 0.6554630889374266\n",
      "for iteration: 57, J = 0.6554463249261634\n",
      "for iteration: 58, J = 0.6554295746473805\n",
      "for iteration: 59, J = 0.6554128380879461\n",
      "for iteration: 60, J = 0.6553961152347512\n",
      "for iteration: 61, J = 0.6553794060747063\n",
      "for iteration: 62, J = 0.6553627105947445\n",
      "for iteration: 63, J = 0.6553460287818197\n",
      "for iteration: 64, J = 0.6553293606229064\n",
      "for iteration: 65, J = 0.6553127061050018\n",
      "for iteration: 66, J = 0.6552960652151217\n",
      "for iteration: 67, J = 0.6552794379403046\n",
      "for iteration: 68, J = 0.6552628242676092\n",
      "for iteration: 69, J = 0.6552462241841152\n",
      "for iteration: 70, J = 0.6552296376769221\n",
      "for iteration: 71, J = 0.6552130647331519\n",
      "for iteration: 72, J = 0.6551965053399446\n",
      "for iteration: 73, J = 0.6551799594844626\n",
      "for iteration: 74, J = 0.6551634271538879\n",
      "for iteration: 75, J = 0.655146908335423\n",
      "for iteration: 76, J = 0.6551304030162906\n",
      "for iteration: 77, J = 0.6551139111837337\n",
      "for iteration: 78, J = 0.6550974328250151\n",
      "for iteration: 79, J = 0.6550809679274179\n",
      "for iteration: 80, J = 0.6550645164782452\n",
      "for iteration: 81, J = 0.6550480784648192\n",
      "for iteration: 82, J = 0.6550316538744833\n",
      "for iteration: 83, J = 0.6550152426945999\n",
      "for iteration: 84, J = 0.6549988449125506\n",
      "for iteration: 85, J = 0.6549824605157375\n",
      "for iteration: 86, J = 0.6549660894915816\n",
      "for iteration: 87, J = 0.6549497318275241\n",
      "for iteration: 88, J = 0.6549333875110247\n",
      "for iteration: 89, J = 0.6549170565295631\n",
      "for iteration: 90, J = 0.6549007388706384\n",
      "for iteration: 91, J = 0.6548844345217678\n",
      "for iteration: 92, J = 0.6548681434704893\n",
      "for iteration: 93, J = 0.6548518657043585\n",
      "for iteration: 94, J = 0.654835601210951\n",
      "for iteration: 95, J = 0.6548193499778607\n",
      "for iteration: 96, J = 0.6548031119927012\n",
      "for iteration: 97, J = 0.654786887243104\n",
      "for iteration: 98, J = 0.6547706757167197\n",
      "for iteration: 99, J = 0.6547544774012177\n",
      "for iteration: 100, J = 0.6547382922842865\n",
      "for iteration: 101, J = 0.6547221203536322\n",
      "for iteration: 102, J = 0.6547059615969795\n",
      "for iteration: 103, J = 0.6546898160020728\n",
      "for iteration: 104, J = 0.6546736835566732\n",
      "for iteration: 105, J = 0.6546575642485618\n",
      "for iteration: 106, J = 0.6546414580655361\n",
      "for iteration: 107, J = 0.6546253649954137\n",
      "for iteration: 108, J = 0.6546092850260284\n",
      "for iteration: 109, J = 0.6545932181452337\n",
      "for iteration: 110, J = 0.654577164340901\n",
      "for iteration: 111, J = 0.6545611236009181\n",
      "for iteration: 112, J = 0.6545450959131928\n",
      "for iteration: 113, J = 0.6545290812656491\n",
      "for iteration: 114, J = 0.6545130796462294\n",
      "for iteration: 115, J = 0.6544970910428941\n",
      "for iteration: 116, J = 0.654481115443621\n",
      "for iteration: 117, J = 0.654465152836405\n",
      "for iteration: 118, J = 0.6544492032092597\n",
      "for iteration: 119, J = 0.654433266550215\n",
      "for iteration: 120, J = 0.6544173428473193\n",
      "for iteration: 121, J = 0.6544014320886377\n",
      "for iteration: 122, J = 0.6543855342622521\n",
      "for iteration: 123, J = 0.6543696493562629\n",
      "for iteration: 124, J = 0.6543537773587871\n",
      "for iteration: 125, J = 0.6543379182579588\n",
      "for iteration: 126, J = 0.6543220720419296\n",
      "for iteration: 127, J = 0.654306238698868\n",
      "for iteration: 128, J = 0.6542904182169582\n",
      "for iteration: 129, J = 0.6542746105844033\n",
      "for iteration: 130, J = 0.6542588157894227\n",
      "for iteration: 131, J = 0.6542430338202515\n",
      "for iteration: 132, J = 0.654227264665143\n",
      "for iteration: 133, J = 0.6542115083123667\n",
      "for iteration: 134, J = 0.6541957647502086\n",
      "for iteration: 135, J = 0.6541800339669716\n",
      "for iteration: 136, J = 0.6541643159509745\n",
      "for iteration: 137, J = 0.6541486106905534\n",
      "for iteration: 138, J = 0.6541329181740609\n",
      "for iteration: 139, J = 0.6541172383898649\n",
      "for iteration: 140, J = 0.6541015713263509\n",
      "for iteration: 141, J = 0.6540859169719204\n",
      "for iteration: 142, J = 0.6540702753149905\n",
      "for iteration: 143, J = 0.6540546463439951\n",
      "for iteration: 144, J = 0.6540390300473842\n",
      "for iteration: 145, J = 0.6540234264136235\n",
      "for iteration: 146, J = 0.6540078354311955\n",
      "for iteration: 147, J = 0.653992257088598\n",
      "for iteration: 148, J = 0.6539766913743449\n",
      "for iteration: 149, J = 0.6539611382769663\n"
     ]
    }
   ],
   "source": [
    "np.random.seed(1)\n",
    "initial_w = np.random.rand(X_mapped.shape[1])-0.5\n",
    "initial_b = 0.08\n",
    "lambda_ = 0.01\n",
    "iterations = 150\n",
    "alpha = 0.01\n",
    "def gradient_descent(X_mapped, y_train, initial_w, initial_b,\n",
    "                                    compute_cost_reg, compute_gradient_reg,\n",
    "                                    alpha, iterations, lambda_):\n",
    "  X, y, w, b = X_mapped, y_train, initial_w, initial_b\n",
    "  J_history = np.zeros(iterations)\n",
    "  for iteration in range(iterations):\n",
    "        total_cost = compute_cost_reg(X, y, w, b, lambda_)\n",
    "        dj_db, dj_dw = compute_gradient_reg(X, y, w, b, lambda_)\n",
    "        b -= alpha*dj_db\n",
    "        w -= alpha*np.mean(dj_dw, axis=0)\n",
    "        J_history[iteration] = total_cost\n",
    "        print(f\"for iteration: {iteration}, J = {total_cost}\") \n",
    "  return w, b, J_history, _\n",
    "\n",
    "w,b, J_history,_ = gradient_descent(X_mapped, y_train, initial_w, initial_b,\n",
    "                                    compute_cost_reg, compute_gradient_reg,\n",
    "                                    alpha, iterations, lambda_)\n"
   ]
  },
  {
   "cell_type": "code",
   "execution_count": 94,
   "metadata": {
    "id": "cqSOrJsTAf9p"
   },
   "outputs": [],
   "source": [
    "#plot decision boundary\n",
    "def plot_decision_boundary(w,b,X,y):\n",
    "    '''xmin = -3;\n",
    "    xmax = 3;\n",
    "    ymin = -3;\n",
    "    ymax = 3;\n",
    "    plt.xlim(xmin, xmax)\n",
    "    plt.ylim(ymin, ymax)'''\n",
    "    plot_data(X[:, 0:2], y)\n",
    "    if X.shape[1] <= 2:\n",
    "        plot_x = np.array([min(X[:, 0]), max(X[:, 0])])\n",
    "        plot_y = (-1. / w[1]) * (w[0] * plot_x + b)\n",
    "\n",
    "        plt.plot(plot_x, plot_y, c=\"b\")\n",
    "\n",
    "    else:\n",
    "        u = np.linspace(-1, 1.5, 50)\n",
    "        v = np.linspace(-1, 1.5, 50)\n",
    "\n",
    "        z = np.zeros((len(u), len(v)))\n",
    "\n",
    "\n",
    "        for i in range(len(u)):\n",
    "            for j in range(len(v)):\n",
    "                z[i,j] = sigmoid(np.dot(map_feature(u[i], v[j]), w) + b)[0]\n",
    "\n",
    "\n",
    "        z = z.T\n",
    "\n",
    "\n",
    "        plt.contour(u,v,z, levels = [0.5], colors=\"g\")"
   ]
  },
  {
   "cell_type": "code",
   "execution_count": 95,
   "metadata": {
    "id": "etir_m_AAyYC"
   },
   "outputs": [
    {
     "data": {
      "image/png": "[encoded data removed]",
      "text/plain": [
       "<Figure size 640x480 with 1 Axes>"
      ]
     },
     "metadata": {},
     "output_type": "display_data"
    }
   ],
   "source": [
    "plot_decision_boundary(w, b, X_mapped, y_train)"
   ]
  },
  {
   "cell_type": "code",
   "execution_count": 96,
   "metadata": {
    "id": "MD2Dup4OA1ew"
   },
   "outputs": [],
   "source": [
    "#predict your training model\n",
    "def predict(X, w, b):\n",
    "  m,n=X.shape\n",
    "  p=np.zeros(m)\n",
    "  #write your code\n",
    "  z = np.dot(X, w) + b\n",
    "  y_hat = sigmoid(z)\n",
    "  p = (y_hat>=0.5).astype(int)\n",
    "  return p"
   ]
  },
  {
   "cell_type": "code",
   "execution_count": 97,
   "metadata": {
    "id": "TAhIPFIsBTjk"
   },
   "outputs": [
    {
     "name": "stdout",
     "output_type": "stream",
     "text": [
      "Accuracy of training model: 74.576271\n"
     ]
    }
   ],
   "source": [
    "p = predict(X_mapped, w, b)\n",
    "\n",
    "print('Accuracy of training model: %f'%(np.mean(p == y_train) * 100))"
   ]
  }
 ],
 "metadata": {
  "colab": {
   "provenance": []
  },
  "kernelspec": {
   "display_name": "Python 3 (ipykernel)",
   "language": "python",
   "name": "python3"
  },
  "language_info": {
   "codemirror_mode": {
    "name": "ipython",
    "version": 3
   },
   "file_extension": ".py",
   "mimetype": "text/x-python",
   "name": "python",
   "nbconvert_exporter": "python",
   "pygments_lexer": "ipython3",
   "version": "3.12.3"
  }
 },
 "nbformat": 4,
 "nbformat_minor": 4
}
