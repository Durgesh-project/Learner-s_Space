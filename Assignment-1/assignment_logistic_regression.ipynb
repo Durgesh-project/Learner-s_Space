{
 "cells": [
  {
   "cell_type": "markdown",
   "metadata": {
    "id": "wNEUsAHHCGk2"
   },
   "source": [
    "##ASSIGNMENT\n",
    "#Dataset\n",
    "Assume you are a scientist who is trying to make a propellent and is trying many tests to make an efficient propellent .\n",
    "<br>\n",
    "You have performed two tests.\n",
    "<br>\n",
    "From the two tests you would like whether this propellent works efficiently or not.\n",
    "Build your own logistic regression model to decide .\n",
    "<br>\n",
    "Text with \"DO NOT EDIT THIS CODE\" needs to be only run do not edit it\n"
   ]
  },
  {
   "cell_type": "code",
   "execution_count": 1,
   "metadata": {
    "id": "xJm_XXJo4RDg"
   },
   "outputs": [],
   "source": [
    "#import libraries\n",
    "#write your code.\n",
    "import numpy as np\n",
    "import pandas as pd\n",
    "from matplotlib import pyplot as plt\n",
    "import math"
   ]
  },
  {
   "cell_type": "code",
   "execution_count": 2,
   "metadata": {
    "id": "YtL0jW6m4e1A"
   },
   "outputs": [],
   "source": [
    "#load data\n",
    "data=np.loadtxt(\"data.txt\", delimiter=',')\n",
    "X=data[:,:2]\n",
    "y=data[:,2]\n",
    "X_train=X\n",
    "y_train=y"
   ]
  },
  {
   "cell_type": "code",
   "execution_count": 3,
   "metadata": {
    "id": "Bk2qYHyk4mNm"
   },
   "outputs": [],
   "source": [
    "#plot data to visualise\n",
    "def plot_data(X,y,positive_label=\"y=1\", negative_label=\"y=0\"):\n",
    "#positive_label and negative_label refers to classes of y as y can be 0 or 1\n",
    "    positive = y == 1\n",
    "    negative = y == 0\n",
    "    plt.plot(X[positive, 0], X[positive, 1], 'k+', label=positive_label)\n",
    "    plt.plot(X[negative, 0], X[negative, 1], 'yo', label=negative_label)\n",
    "#While plotting graph the label parameter will be either positive_label or negative_label so plot both the labels for"
   ]
  },
  {
   "cell_type": "code",
   "execution_count": 4,
   "metadata": {
    "id": "RzsMdrwv58tQ"
   },
   "outputs": [
    {
     "data": {
      "image/png": "[encoded data removed]",
      "text/plain": [
       "<Figure size 640x480 with 1 Axes>"
      ]
     },
     "metadata": {},
     "output_type": "display_data"
    }
   ],
   "source": [
    "#test\n",
    "plot_data(X_train, y_train[:], positive_label=\"Accepted\", negative_label=\"Rejected\")\n",
    "\n",
    "\n",
    "plt.xlabel('Test 2')\n",
    "plt.ylabel('Test 1')\n",
    "plt.legend(loc=\"upper right\")\n",
    "plt.show()"
   ]
  },
  {
   "cell_type": "code",
   "execution_count": 5,
   "metadata": {
    "id": "KhRBdaFi6nKo"
   },
   "outputs": [],
   "source": [
    "#feature mapping\n",
    "def map_feature(X1,X2):\n",
    "  X1=np.atleast_1d(X1)\n",
    "  X2=np.atleast_1d(X2)\n",
    "  degree=6\n",
    "  out=[]\n",
    "  for i in range(1,degree+1):\n",
    "    for j in range(i+1):\n",
    "      out.append((X1**(i-j) * (X2**j)))\n",
    "  return np.stack(out, axis=1)"
   ]
  },
  {
   "cell_type": "code",
   "execution_count": 6,
   "metadata": {
    "id": "PNS4kJfq6_m8"
   },
   "outputs": [
    {
     "name": "stdout",
     "output_type": "stream",
     "text": [
      "Original shape of data: (118, 2)\n",
      "Shape after feature mapping: (118, 27)\n"
     ]
    }
   ],
   "source": [
    "print(\"Original shape of data:\", X_train.shape)\n",
    "\n",
    "mapped_X =  map_feature(X_train[:, 0], X_train[:, 1])\n",
    "print(\"Shape after feature mapping:\", mapped_X.shape)"
   ]
  },
  {
   "cell_type": "code",
   "execution_count": 7,
   "metadata": {
    "cellView": "form",
    "id": "BqlxZOXoHh4z"
   },
   "outputs": [],
   "source": [
    "# @title DO NOT EDIT THIS CODE\n",
    "def sigmoid_test(target):\n",
    "    assert np.isclose(target(3.0), 0.9525741268224334), \"Failed for scalar input\"\n",
    "    assert np.allclose(target(np.array([2.5, 0])), [0.92414182, 0.5]), \"Failed for 1D array\"\n",
    "    assert np.allclose(target(np.array([[2.5, -2.5], [0, 1]])),\n",
    "                       [[0.92414182, 0.07585818], [0.5, 0.73105858]]), \"Failed for 2D array\"\n",
    "    print('\\033[92mTests passed!')"
   ]
  },
  {
   "cell_type": "code",
   "execution_count": 8,
   "metadata": {
    "id": "wdgE-ay07C0P"
   },
   "outputs": [],
   "source": [
    "#sigmoid function\n",
    "def sigmoid(z):\n",
    "#write your code\n",
    "    function = 1/(1 + np.exp(-z))\n",
    "    return function\n",
    "\n"
   ]
  },
  {
   "cell_type": "code",
   "execution_count": 9,
   "metadata": {
    "id": "9XOlXXyxHnmB"
   },
   "outputs": [
    {
     "name": "stdout",
     "output_type": "stream",
     "text": [
      "\u001b[92mTests passed!\n"
     ]
    }
   ],
   "source": [
    "sigmoid_test(sigmoid)\n"
   ]
  },
  {
   "cell_type": "code",
   "execution_count": 10,
   "metadata": {
    "cellView": "form",
    "id": "QLqfyxPrH-v-"
   },
   "outputs": [],
   "source": [
    "# @title DO NOT EDIT THIS CODE\n",
    "def compute_cost_test(target):\n",
    "    X = np.array([[0, 0, 0, 0]]).T\n",
    "    y = np.array([0, 0, 0, 0])\n",
    "    w = np.array([0])\n",
    "    b = 1\n",
    "    result = target(X, y, w, b)\n",
    "    if math.isinf(result):\n",
    "        raise ValueError(\"Did you get the sigmoid of z_wb?\")\n",
    "\n",
    "    np.random.seed(17)\n",
    "    X = np.random.randn(5, 2)\n",
    "    y = np.array([1, 0, 0, 1, 1])\n",
    "    w = np.random.randn(2)\n",
    "    b = 0\n",
    "    result = target(X, y, w, b)\n",
    "    assert np.isclose(result, 2.15510667), f\"Wrong output. Expected: {2.15510667} got: {result}\"\n",
    "\n",
    "    X = np.random.randn(4, 3)\n",
    "    y = np.array([1, 1, 0, 0])\n",
    "    w = np.random.randn(3)\n",
    "    b = 0\n",
    "\n",
    "    result = target(X, y, w, b)\n",
    "    assert np.isclose(result, 0.80709376), f\"Wrong output. Expected: {0.80709376} got: {result}\"\n",
    "\n",
    "    X = np.random.randn(4, 3)\n",
    "    y = np.array([1, 0,1, 0])\n",
    "    w = np.random.randn(3)\n",
    "    b = 3\n",
    "    result = target(X, y, w, b)\n",
    "    assert np.isclose(result, 0.4529660647), f\"Wrong output. Expected: {0.4529660647} got: {result}. Did you inizialized z_wb = b?\"\n",
    "\n",
    "    print('\\033[92mTests passed!')"
   ]
  },
  {
   "cell_type": "code",
   "execution_count": 11,
   "metadata": {
    "id": "PRIqcpJ17MzH"
   },
   "outputs": [],
   "source": [
    "#computing cost\n",
    "def compute_cost(X,y,w,b,lambda_=1):\n",
    "#write your code\n",
    "  z = np.dot(X, w) + b\n",
    "  y_hat = sigmoid(z)\n",
    "  m = len(y)\n",
    "  total_cost = -((np.sum(y*np.log(y_hat) + (1 - y)*np.log(1-y_hat)))/(m))\n",
    "  return total_cost"
   ]
  },
  {
   "cell_type": "code",
   "execution_count": 12,
   "metadata": {
    "id": "MPOvLzL5H5-5"
   },
   "outputs": [
    {
     "name": "stdout",
     "output_type": "stream",
     "text": [
      "Cost at test w,b: 11.777\n",
      "\u001b[92mTests passed!\n"
     ]
    }
   ],
   "source": [
    "test_w = np.array([0.2, 0.2])\n",
    "test_b = -24.\n",
    "cost = compute_cost(X_train, y_train, test_w, test_b)\n",
    "\n",
    "print('Cost at test w,b: {:.3f}'.format(cost))\n",
    "\n",
    "\n",
    "# test\n",
    "compute_cost_test(compute_cost)"
   ]
  },
  {
   "cell_type": "code",
   "execution_count": 13,
   "metadata": {
    "id": "ULkWUBkO7ffh"
   },
   "outputs": [],
   "source": [
    "#compute regularised cost\n",
    "def compute_cost_reg(X, y, w, b, lambda_ = 1):\n",
    "#write your code\n",
    "  m = X.shape[0]\n",
    "  regularization_term = (lambda_*np.sum(w**2)/(2*m))\n",
    "  total_cost = compute_cost(X,y,w,b,lambda_) + regularization_term\n",
    "  return total_cost"
   ]
  },
  {
   "cell_type": "code",
   "execution_count": 14,
   "metadata": {
    "cellView": "form",
    "id": "OhFbPakDGKQj"
   },
   "outputs": [],
   "source": [
    "# @title DO NOT EDIT THIS CODE\n",
    "def compute_cost_reg_test(target):\n",
    "    np.random.seed(1)\n",
    "    w = np.random.randn(3)\n",
    "    b = 0.4\n",
    "    X = np.random.randn(6, 3)\n",
    "    y = np.array([0, 1, 1, 0, 1, 1])\n",
    "    lambda_ = 0.1\n",
    "    expected_output = target(X, y, w, b, lambda_)\n",
    "\n",
    "    assert np.isclose(expected_output, 0.5469746792761936), f\"Wrong output. Expected: {0.5469746792761936} got:{expected_output}\"\n",
    "\n",
    "    w = np.random.randn(5)\n",
    "    b = -0.6\n",
    "    X = np.random.randn(8, 5)\n",
    "    y = np.array([1, 0, 1, 0, 0, 1, 0, 1])\n",
    "    lambda_ = 0.01\n",
    "    output = target(X, y, w, b, lambda_)\n",
    "    assert np.isclose(output, 1.2608591964119995), f\"Wrong output. Expected: {1.2608591964119995} got:{output}\"\n",
    "\n",
    "    w = np.array([2, 2, 2, 2, 2])\n",
    "    b = 0\n",
    "    X = np.zeros((8, 5))\n",
    "    y = np.array([0.5] * 8)\n",
    "    lambda_ = 3\n",
    "    output = target(X, y, w, b, lambda_)\n",
    "    expected = -np.log(0.5) + 3. / (2. * 8.) * 20.\n",
    "    assert np.isclose(output, expected), f\"Wrong output. Expected: {expected} got:{output}\"\n",
    "\n",
    "    print('\\033[92mAll tests passed!')"
   ]
  },
  {
   "cell_type": "code",
   "execution_count": 15,
   "metadata": {
    "id": "jO14e7OD7syR"
   },
   "outputs": [
    {
     "name": "stdout",
     "output_type": "stream",
     "text": [
      "Regularised cost : 0.6618252552483951\n",
      "\u001b[92mAll tests passed!\n"
     ]
    }
   ],
   "source": [
    "X_mapped = map_feature(X_train[:, 0], X_train[:, 1])\n",
    "np.random.seed(1)\n",
    "initial_w = np.random.rand(X_mapped.shape[1]) - 0.5\n",
    "initial_b = 0.5\n",
    "lambda_ = 0.5\n",
    "cost = compute_cost_reg(X_mapped, y_train, initial_w, initial_b, lambda_)\n",
    "\n",
    "print(\"Regularised cost :\", cost)\n",
    "\n",
    "#test\n",
    "compute_cost_reg_test(compute_cost_reg)"
   ]
  },
  {
   "cell_type": "code",
   "execution_count": 16,
   "metadata": {
    "cellView": "form",
    "id": "plQBUPM2IRei"
   },
   "outputs": [],
   "source": [
    "# @title DO NOT EDIT THIS CODE\n",
    "def compute_gradient_test(target):\n",
    "    np.random.seed(1)\n",
    "    X = np.random.randn(7, 3)\n",
    "    y = np.array([1, 0, 1, 0, 1, 1, 0])\n",
    "    test_w = np.array([1, 0.5, -0.35])\n",
    "    test_b = 1.7\n",
    "    dj_db, dj_dw  = target(X, y, test_w, test_b)\n",
    "\n",
    "    assert np.isclose(dj_db, 0.28936094), f\"Wrong value for dj_db. Expected: {0.28936094} got: {dj_db}\"\n",
    "    assert dj_dw.shape == test_w.shape, f\"Wrong shape for dj_dw. Expected: {test_w.shape} got: {dj_dw.shape}\"\n",
    "    assert np.allclose(dj_dw, [-0.11999166, 0.41498775, -0.71968405]), f\"Wrong values for dj_dw. Got: {dj_dw}\"\n",
    "\n",
    "    print('\\033[92mTests passed!')"
   ]
  },
  {
   "cell_type": "code",
   "execution_count": 17,
   "metadata": {
    "id": "v27SzhYX8-ug"
   },
   "outputs": [],
   "source": [
    "#compute gradient\n",
    "def compute_gradient(X, y, w, b, lambda_=None):\n",
    "#write your code\n",
    "  z = np.dot(X, w) + b\n",
    "  y_hat = sigmoid(z)\n",
    "  m = len(y)\n",
    "  dj_db = -(np.sum(y - y_hat))/(m)\n",
    "  dj_dw = -(np.dot((y - y_hat) , X))/(m) \n",
    "  return dj_db,dj_dw"
   ]
  },
  {
   "cell_type": "code",
   "execution_count": 18,
   "metadata": {
    "id": "WLmFL2yuIPUA"
   },
   "outputs": [
    {
     "name": "stdout",
     "output_type": "stream",
     "text": [
      "dj_db at test_w: -0.4915254236924827\n",
      "dj_dw at test_w: [-0.008601361012465367, -0.09147300847306211]\n",
      "\u001b[92mTests passed!\n"
     ]
    }
   ],
   "source": [
    "test_w = np.array([ 0.2, -0.5])\n",
    "test_b = -24\n",
    "dj_db, dj_dw  = compute_gradient(X_train, y_train, test_w, test_b)\n",
    "\n",
    "print('dj_db at test_w:', dj_db)\n",
    "print('dj_dw at test_w:', dj_dw.tolist())\n",
    "\n",
    "# test\n",
    "compute_gradient_test(compute_gradient)"
   ]
  },
  {
   "cell_type": "code",
   "execution_count": 19,
   "metadata": {
    "id": "TGfUArz09TMl"
   },
   "outputs": [],
   "source": [
    "#compute regularised gradient\n",
    "def compute_gradient_reg(X, y, w, b, lambda_=1):\n",
    "#write your code\n",
    "  m = len(y)\n",
    "  dj_db, dj_dw = compute_gradient(X, y, w, b)\n",
    "  regularized_dj_dw = (lambda_*w)/(m)\n",
    "  dj_dw += regularized_dj_dw\n",
    "  return dj_db,dj_dw"
   ]
  },
  {
   "cell_type": "code",
   "execution_count": 20,
   "metadata": {
    "cellView": "form",
    "id": "KNRCWIc8G2cp"
   },
   "outputs": [],
   "source": [
    "# @title DO NOT EDIT THIS CODE\n",
    "def compute_gradient_reg_test(target):\n",
    "    np.random.seed(1)\n",
    "    w = np.random.randn(5)\n",
    "    b = 0.2\n",
    "    X = np.random.randn(7, 5)\n",
    "    y = np.array([0, 1, 1, 0, 1, 1, 0])\n",
    "    lambda_ = 0.1\n",
    "    expected1 = (-0.1506447567869257, np.array([ 0.19530838, -0.00632206,  0.19687367,  0.15741161,  0.02791437]))\n",
    "    dj_db, dj_dw = target(X, y, w, b, lambda_)\n",
    "\n",
    "    assert np.isclose(dj_db, expected1[0]), f\"Wrong dj_db. Expected: {expected1[0]} got: {dj_db}\"\n",
    "    assert np.allclose(dj_dw, expected1[1]), f\"Wrong dj_dw. Expected: {expected1[1]} got: {dj_dw}\"\n",
    "\n",
    "\n",
    "    w = np.random.randn(7)\n",
    "    b = 0\n",
    "    X = np.random.randn(7, 7)\n",
    "    y = np.array([1, 0, 0, 0, 1, 1, 0])\n",
    "    lambda_ = 0\n",
    "    expected2 = (0.02660329857573818, np.array([ 0.23567643, -0.06921029, -0.19705212, -0.0002884 ,  0.06490588,\n",
    "        0.26948175,  0.10777992]))\n",
    "    dj_db, dj_dw = target(X, y, w, b, lambda_)\n",
    "    assert np.isclose(dj_db, expected2[0]), f\"Wrong dj_db. Expected: {expected2[0]} got: {dj_db}\"\n",
    "    assert np.allclose(dj_dw, expected2[1]), f\"Wrong dj_dw. Expected: {expected2[1]} got: {dj_dw}\"\n",
    "\n",
    "    print('\\033[92mTests passed!')"
   ]
  },
  {
   "cell_type": "code",
   "execution_count": 21,
   "metadata": {
    "id": "3_of_BHJ9hEc"
   },
   "outputs": [
    {
     "name": "stdout",
     "output_type": "stream",
     "text": [
      "dj_db: 0.07138288792343654\n",
      "\u001b[92mTests passed!\n"
     ]
    }
   ],
   "source": [
    "X_mapped = map_feature(X_train[:, 0], X_train[:, 1])\n",
    "np.random.seed(1)\n",
    "initial_w  = np.random.rand(X_mapped.shape[1]) - 0.5\n",
    "initial_b = 0.5\n",
    "\n",
    "lambda_ = 0.5\n",
    "dj_db, dj_dw = compute_gradient_reg(X_mapped, y_train, initial_w, initial_b, lambda_)\n",
    "\n",
    "print(f\"dj_db: {dj_db}\" )\n",
    "#test\n",
    "compute_gradient_reg_test(compute_gradient_reg)"
   ]
  },
  {
   "cell_type": "code",
   "execution_count": 22,
   "metadata": {
    "id": "c5y3Nb9Z_SC4"
   },
   "outputs": [
    {
     "name": "stdout",
     "output_type": "stream",
     "text": [
      "for iteration: 0, J = 0.7225857477413173\n",
      "for iteration: 1, J = 0.722348089517372\n",
      "for iteration: 2, J = 0.7221110254198119\n",
      "for iteration: 3, J = 0.72187455413126\n",
      "for iteration: 4, J = 0.7216386743360889\n",
      "for iteration: 5, J = 0.7214033847204281\n",
      "for iteration: 6, J = 0.7211686839721657\n",
      "for iteration: 7, J = 0.7209345707809571\n",
      "for iteration: 8, J = 0.7207010438382263\n",
      "for iteration: 9, J = 0.7204681018371727\n",
      "for iteration: 10, J = 0.7202357434727749\n",
      "for iteration: 11, J = 0.7200039674417957\n",
      "for iteration: 12, J = 0.7197727724427861\n",
      "for iteration: 13, J = 0.7195421571760904\n",
      "for iteration: 14, J = 0.7193121203438507\n",
      "for iteration: 15, J = 0.7190826606500098\n",
      "for iteration: 16, J = 0.7188537768003181\n",
      "for iteration: 17, J = 0.7186254675023357\n",
      "for iteration: 18, J = 0.7183977314654377\n",
      "for iteration: 19, J = 0.7181705674008187\n",
      "for iteration: 20, J = 0.7179439740214951\n",
      "for iteration: 21, J = 0.7177179500423125\n",
      "for iteration: 22, J = 0.7174924941799458\n",
      "for iteration: 23, J = 0.7172676051529066\n",
      "for iteration: 24, J = 0.7170432816815446\n",
      "for iteration: 25, J = 0.7168195224880537\n",
      "for iteration: 26, J = 0.7165963262964744\n",
      "for iteration: 27, J = 0.716373691832698\n",
      "for iteration: 28, J = 0.7161516178244699\n",
      "for iteration: 29, J = 0.7159301030013944\n",
      "for iteration: 30, J = 0.7157091460949377\n",
      "for iteration: 31, J = 0.7154887458384315\n",
      "for iteration: 32, J = 0.7152689009670767\n",
      "for iteration: 33, J = 0.7150496102179467\n",
      "for iteration: 34, J = 0.7148308723299912\n",
      "for iteration: 35, J = 0.7146126860440394\n",
      "for iteration: 36, J = 0.7143950501028037\n",
      "for iteration: 37, J = 0.7141779632508823\n",
      "for iteration: 38, J = 0.7139614242347642\n",
      "for iteration: 39, J = 0.7137454318028295\n",
      "for iteration: 40, J = 0.7135299847053558\n",
      "for iteration: 41, J = 0.7133150816945194\n",
      "for iteration: 42, J = 0.7131007215243994\n",
      "for iteration: 43, J = 0.7128869029509795\n",
      "for iteration: 44, J = 0.7126736247321522\n",
      "for iteration: 45, J = 0.7124608856277219\n",
      "for iteration: 46, J = 0.7122486843994071\n",
      "for iteration: 47, J = 0.712037019810843\n",
      "for iteration: 48, J = 0.7118258906275858\n",
      "for iteration: 49, J = 0.7116152956171139\n",
      "for iteration: 50, J = 0.7114052335488322\n",
      "for iteration: 51, J = 0.711195703194073\n",
      "for iteration: 52, J = 0.7109867033260999\n",
      "for iteration: 53, J = 0.710778232720111\n",
      "for iteration: 54, J = 0.71057029015324\n",
      "for iteration: 55, J = 0.7103628744045597\n",
      "for iteration: 56, J = 0.7101559842550842\n",
      "for iteration: 57, J = 0.7099496184877714\n",
      "for iteration: 58, J = 0.7097437758875256\n",
      "for iteration: 59, J = 0.7095384552411992\n",
      "for iteration: 60, J = 0.7093336553375965\n",
      "for iteration: 61, J = 0.7091293749674743\n",
      "for iteration: 62, J = 0.7089256129235454\n",
      "for iteration: 63, J = 0.7087223680004797\n",
      "for iteration: 64, J = 0.7085196389949086\n",
      "for iteration: 65, J = 0.7083174247054228\n",
      "for iteration: 66, J = 0.7081157239325805\n",
      "for iteration: 67, J = 0.7079145354789033\n",
      "for iteration: 68, J = 0.7077138581488829\n",
      "for iteration: 69, J = 0.7075136907489801\n",
      "for iteration: 70, J = 0.7073140320876288\n",
      "for iteration: 71, J = 0.7071148809752361\n",
      "for iteration: 72, J = 0.7069162362241851\n",
      "for iteration: 73, J = 0.7067180966488376\n",
      "for iteration: 74, J = 0.7065204610655339\n",
      "for iteration: 75, J = 0.7063233282925957\n",
      "for iteration: 76, J = 0.7061266971503287\n",
      "for iteration: 77, J = 0.7059305664610217\n",
      "for iteration: 78, J = 0.7057349350489512\n",
      "for iteration: 79, J = 0.7055398017403802\n",
      "for iteration: 80, J = 0.7053451653635626\n",
      "for iteration: 81, J = 0.7051510247487421\n",
      "for iteration: 82, J = 0.704957378728156\n",
      "for iteration: 83, J = 0.704764226136034\n",
      "for iteration: 84, J = 0.704571565808602\n",
      "for iteration: 85, J = 0.7043793965840829\n",
      "for iteration: 86, J = 0.704187717302697\n",
      "for iteration: 87, J = 0.703996526806664\n",
      "for iteration: 88, J = 0.7038058239402041\n",
      "for iteration: 89, J = 0.7036156075495397\n",
      "for iteration: 90, J = 0.7034258764828961\n",
      "for iteration: 91, J = 0.7032366295905027\n",
      "for iteration: 92, J = 0.7030478657245938\n",
      "for iteration: 93, J = 0.7028595837394107\n",
      "for iteration: 94, J = 0.7026717824912017\n",
      "for iteration: 95, J = 0.7024844608382239\n",
      "for iteration: 96, J = 0.7022976176407439\n",
      "for iteration: 97, J = 0.7021112517610378\n",
      "for iteration: 98, J = 0.7019253620633946\n",
      "for iteration: 99, J = 0.7017399474141136\n",
      "for iteration: 100, J = 0.7015550066815089\n",
      "for iteration: 101, J = 0.7013705387359074\n",
      "for iteration: 102, J = 0.7011865424496513\n",
      "for iteration: 103, J = 0.7010030166970976\n",
      "for iteration: 104, J = 0.7008199603546202\n",
      "for iteration: 105, J = 0.7006373723006087\n",
      "for iteration: 106, J = 0.7004552514154718\n",
      "for iteration: 107, J = 0.7002735965816345\n",
      "for iteration: 108, J = 0.7000924066835419\n",
      "for iteration: 109, J = 0.6999116806076575\n",
      "for iteration: 110, J = 0.6997314172424651\n",
      "for iteration: 111, J = 0.6995516154784688\n",
      "for iteration: 112, J = 0.6993722742081931\n",
      "for iteration: 113, J = 0.6991933923261838\n",
      "for iteration: 114, J = 0.6990149687290087\n",
      "for iteration: 115, J = 0.6988370023152565\n",
      "for iteration: 116, J = 0.6986594919855396\n",
      "for iteration: 117, J = 0.6984824366424919\n",
      "for iteration: 118, J = 0.6983058351907714\n",
      "for iteration: 119, J = 0.6981296865370576\n",
      "for iteration: 120, J = 0.6979539895900548\n",
      "for iteration: 121, J = 0.6977787432604904\n",
      "for iteration: 122, J = 0.6976039464611157\n",
      "for iteration: 123, J = 0.697429598106705\n",
      "for iteration: 124, J = 0.6972556971140583\n",
      "for iteration: 125, J = 0.6970822424019981\n",
      "for iteration: 126, J = 0.6969092328913717\n",
      "for iteration: 127, J = 0.6967366675050505\n",
      "for iteration: 128, J = 0.69656454516793\n",
      "for iteration: 129, J = 0.6963928648069302\n",
      "for iteration: 130, J = 0.6962216253509936\n",
      "for iteration: 131, J = 0.6960508257310888\n",
      "for iteration: 132, J = 0.6958804648802069\n",
      "for iteration: 133, J = 0.695710541733363\n",
      "for iteration: 134, J = 0.6955410552275955\n",
      "for iteration: 135, J = 0.6953720043019663\n",
      "for iteration: 136, J = 0.6952033878975606\n",
      "for iteration: 137, J = 0.6950352049574866\n",
      "for iteration: 138, J = 0.694867454426874\n",
      "for iteration: 139, J = 0.694700135252876\n",
      "for iteration: 140, J = 0.6945332463846667\n",
      "for iteration: 141, J = 0.6943667867734427\n",
      "for iteration: 142, J = 0.6942007553724211\n",
      "for iteration: 143, J = 0.69403515113684\n",
      "for iteration: 144, J = 0.6938699730239577\n",
      "for iteration: 145, J = 0.6937052199930528\n",
      "for iteration: 146, J = 0.6935408910054227\n",
      "for iteration: 147, J = 0.6933769850243844\n",
      "for iteration: 148, J = 0.6932135010152725\n",
      "for iteration: 149, J = 0.6930504379454396\n",
      "for iteration: 150, J = 0.6928877947842565\n",
      "for iteration: 151, J = 0.6927255705031092\n",
      "for iteration: 152, J = 0.6925637640754002\n",
      "for iteration: 153, J = 0.6924023744765471\n",
      "for iteration: 154, J = 0.6922414006839832\n",
      "for iteration: 155, J = 0.6920808416771543\n",
      "for iteration: 156, J = 0.6919206964375209\n",
      "for iteration: 157, J = 0.6917609639485542\n",
      "for iteration: 158, J = 0.6916016431957385\n",
      "for iteration: 159, J = 0.6914427331665685\n",
      "for iteration: 160, J = 0.6912842328505491\n",
      "for iteration: 161, J = 0.6911261412391944\n",
      "for iteration: 162, J = 0.6909684573260266\n",
      "for iteration: 163, J = 0.6908111801065758\n",
      "for iteration: 164, J = 0.6906543085783791\n",
      "for iteration: 165, J = 0.6904978417409781\n",
      "for iteration: 166, J = 0.6903417785959202\n",
      "for iteration: 167, J = 0.6901861181467555\n",
      "for iteration: 168, J = 0.6900308593990381\n",
      "for iteration: 169, J = 0.6898760013603229\n",
      "for iteration: 170, J = 0.6897215430401658\n",
      "for iteration: 171, J = 0.6895674834501222\n",
      "for iteration: 172, J = 0.689413821603747\n",
      "for iteration: 173, J = 0.6892605565165904\n",
      "for iteration: 174, J = 0.6891076872062013\n",
      "for iteration: 175, J = 0.6889552126921228\n",
      "for iteration: 176, J = 0.6888031319958918\n",
      "for iteration: 177, J = 0.6886514441410385\n",
      "for iteration: 178, J = 0.6885001481530849\n",
      "for iteration: 179, J = 0.6883492430595429\n",
      "for iteration: 180, J = 0.6881987278899144\n",
      "for iteration: 181, J = 0.6880486016756885\n",
      "for iteration: 182, J = 0.687898863450341\n",
      "for iteration: 183, J = 0.6877495122493339\n",
      "for iteration: 184, J = 0.6876005471101125\n",
      "for iteration: 185, J = 0.6874519670721055\n",
      "for iteration: 186, J = 0.687303771176722\n",
      "for iteration: 187, J = 0.6871559584673526\n",
      "for iteration: 188, J = 0.6870085279893648\n",
      "for iteration: 189, J = 0.6868614787901048\n",
      "for iteration: 190, J = 0.6867148099188938\n",
      "for iteration: 191, J = 0.6865685204270273\n",
      "for iteration: 192, J = 0.6864226093677742\n",
      "for iteration: 193, J = 0.6862770757963748\n",
      "for iteration: 194, J = 0.6861319187700387\n",
      "for iteration: 195, J = 0.6859871373479447\n",
      "for iteration: 196, J = 0.6858427305912372\n",
      "for iteration: 197, J = 0.6856986975630283\n",
      "for iteration: 198, J = 0.685555037328391\n",
      "for iteration: 199, J = 0.6854117489543624\n",
      "for iteration: 200, J = 0.6852688315099397\n",
      "for iteration: 201, J = 0.6851262840660787\n",
      "for iteration: 202, J = 0.6849841056956933\n",
      "for iteration: 203, J = 0.6848422954736522\n",
      "for iteration: 204, J = 0.6847008524767783\n",
      "for iteration: 205, J = 0.6845597757838475\n",
      "for iteration: 206, J = 0.6844190644755864\n",
      "for iteration: 207, J = 0.6842787176346694\n",
      "for iteration: 208, J = 0.684138734345719\n",
      "for iteration: 209, J = 0.6839991136953032\n",
      "for iteration: 210, J = 0.6838598547719328\n",
      "for iteration: 211, J = 0.6837209566660616\n",
      "for iteration: 212, J = 0.6835824184700833\n",
      "for iteration: 213, J = 0.6834442392783301\n",
      "for iteration: 214, J = 0.6833064181870695\n",
      "for iteration: 215, J = 0.6831689542945056\n",
      "for iteration: 216, J = 0.6830318467007737\n",
      "for iteration: 217, J = 0.6828950945079413\n",
      "for iteration: 218, J = 0.6827586968200043\n",
      "for iteration: 219, J = 0.6826226527428858\n",
      "for iteration: 220, J = 0.6824869613844345\n",
      "for iteration: 221, J = 0.6823516218544232\n",
      "for iteration: 222, J = 0.6822166332645442\n",
      "for iteration: 223, J = 0.6820819947284118\n",
      "for iteration: 224, J = 0.681947705361556\n",
      "for iteration: 225, J = 0.6818137642814228\n",
      "for iteration: 226, J = 0.6816801706073725\n",
      "for iteration: 227, J = 0.6815469234606765\n",
      "for iteration: 228, J = 0.6814140219645155\n",
      "for iteration: 229, J = 0.6812814652439787\n",
      "for iteration: 230, J = 0.6811492524260602\n",
      "for iteration: 231, J = 0.6810173826396575\n",
      "for iteration: 232, J = 0.6808858550155699\n",
      "for iteration: 233, J = 0.6807546686864959\n",
      "for iteration: 234, J = 0.6806238227870313\n",
      "for iteration: 235, J = 0.6804933164536671\n",
      "for iteration: 236, J = 0.6803631488247869\n",
      "for iteration: 237, J = 0.6802333190406665\n",
      "for iteration: 238, J = 0.6801038262434691\n",
      "for iteration: 239, J = 0.6799746695772455\n",
      "for iteration: 240, J = 0.6798458481879303\n",
      "for iteration: 241, J = 0.6797173612233411\n",
      "for iteration: 242, J = 0.6795892078331751\n",
      "for iteration: 243, J = 0.6794613871690082\n",
      "for iteration: 244, J = 0.6793338983842911\n",
      "for iteration: 245, J = 0.679206740634349\n",
      "for iteration: 246, J = 0.6790799130763779\n",
      "for iteration: 247, J = 0.6789534148694429\n",
      "for iteration: 248, J = 0.6788272451744761\n",
      "for iteration: 249, J = 0.6787014031542741\n",
      "for iteration: 250, J = 0.6785758879734954\n",
      "for iteration: 251, J = 0.6784506987986597\n",
      "for iteration: 252, J = 0.6783258347981436\n",
      "for iteration: 253, J = 0.6782012951421791\n",
      "for iteration: 254, J = 0.6780770790028516\n",
      "for iteration: 255, J = 0.6779531855540977\n",
      "for iteration: 256, J = 0.6778296139717016\n",
      "for iteration: 257, J = 0.6777063634332945\n",
      "for iteration: 258, J = 0.6775834331183511\n",
      "for iteration: 259, J = 0.6774608222081878\n",
      "for iteration: 260, J = 0.6773385298859594\n",
      "for iteration: 261, J = 0.6772165553366588\n",
      "for iteration: 262, J = 0.6770948977471116\n",
      "for iteration: 263, J = 0.6769735563059764\n",
      "for iteration: 264, J = 0.6768525302037414\n",
      "for iteration: 265, J = 0.6767318186327215\n",
      "for iteration: 266, J = 0.6766114207870562\n",
      "for iteration: 267, J = 0.6764913358627083\n",
      "for iteration: 268, J = 0.676371563057459\n",
      "for iteration: 269, J = 0.6762521015709083\n",
      "for iteration: 270, J = 0.6761329506044702\n",
      "for iteration: 271, J = 0.6760141093613714\n",
      "for iteration: 272, J = 0.6758955770466493\n",
      "for iteration: 273, J = 0.675777352867148\n",
      "for iteration: 274, J = 0.6756594360315172\n",
      "for iteration: 275, J = 0.6755418257502086\n",
      "for iteration: 276, J = 0.6754245212354753\n",
      "for iteration: 277, J = 0.6753075217013659\n",
      "for iteration: 278, J = 0.675190826363726\n",
      "for iteration: 279, J = 0.6750744344401928\n",
      "for iteration: 280, J = 0.6749583451501933\n",
      "for iteration: 281, J = 0.6748425577149426\n",
      "for iteration: 282, J = 0.6747270713574403\n",
      "for iteration: 283, J = 0.6746118853024687\n",
      "for iteration: 284, J = 0.6744969987765895\n",
      "for iteration: 285, J = 0.6743824110081418\n",
      "for iteration: 286, J = 0.6742681212272396\n",
      "for iteration: 287, J = 0.6741541286657684\n",
      "for iteration: 288, J = 0.6740404325573836\n",
      "for iteration: 289, J = 0.6739270321375082\n",
      "for iteration: 290, J = 0.6738139266433276\n",
      "for iteration: 291, J = 0.6737011153137908\n",
      "for iteration: 292, J = 0.6735885973896054\n",
      "for iteration: 293, J = 0.6734763721132346\n",
      "for iteration: 294, J = 0.6733644387288964\n",
      "for iteration: 295, J = 0.6732527964825595\n",
      "for iteration: 296, J = 0.6731414446219417\n",
      "for iteration: 297, J = 0.6730303823965058\n",
      "for iteration: 298, J = 0.6729196090574591\n",
      "for iteration: 299, J = 0.6728091238577485\n",
      "for iteration: 300, J = 0.672698926052059\n",
      "for iteration: 301, J = 0.6725890148968121\n",
      "for iteration: 302, J = 0.6724793896501601\n",
      "for iteration: 303, J = 0.6723700495719865\n",
      "for iteration: 304, J = 0.6722609939239019\n",
      "for iteration: 305, J = 0.6721522219692411\n",
      "for iteration: 306, J = 0.6720437329730609\n",
      "for iteration: 307, J = 0.6719355262021379\n",
      "for iteration: 308, J = 0.6718276009249645\n",
      "for iteration: 309, J = 0.6717199564117468\n",
      "for iteration: 310, J = 0.6716125919344027\n",
      "for iteration: 311, J = 0.6715055067665584\n",
      "for iteration: 312, J = 0.6713987001835442\n",
      "for iteration: 313, J = 0.6712921714623958\n",
      "for iteration: 314, J = 0.6711859198818473\n",
      "for iteration: 315, J = 0.671079944722331\n",
      "for iteration: 316, J = 0.670974245265973\n",
      "for iteration: 317, J = 0.6708688207965929\n",
      "for iteration: 318, J = 0.6707636705996988\n",
      "for iteration: 319, J = 0.6706587939624848\n",
      "for iteration: 320, J = 0.6705541901738289\n",
      "for iteration: 321, J = 0.6704498585242907\n",
      "for iteration: 322, J = 0.6703457983061074\n",
      "for iteration: 323, J = 0.6702420088131918\n",
      "for iteration: 324, J = 0.6701384893411295\n",
      "for iteration: 325, J = 0.670035239187176\n",
      "for iteration: 326, J = 0.6699322576502532\n",
      "for iteration: 327, J = 0.6698295440309487\n",
      "for iteration: 328, J = 0.6697270976315102\n",
      "for iteration: 329, J = 0.6696249177558453\n",
      "for iteration: 330, J = 0.6695230037095167\n",
      "for iteration: 331, J = 0.6694213547997406\n",
      "for iteration: 332, J = 0.6693199703353842\n",
      "for iteration: 333, J = 0.6692188496269613\n",
      "for iteration: 334, J = 0.6691179919866308\n",
      "for iteration: 335, J = 0.6690173967281939\n",
      "for iteration: 336, J = 0.6689170631670904\n",
      "for iteration: 337, J = 0.6688169906203973\n",
      "for iteration: 338, J = 0.6687171784068237\n",
      "for iteration: 339, J = 0.6686176258467109\n",
      "for iteration: 340, J = 0.6685183322620271\n",
      "for iteration: 341, J = 0.6684192969763662\n",
      "for iteration: 342, J = 0.6683205193149435\n",
      "for iteration: 343, J = 0.668221998604595\n",
      "for iteration: 344, J = 0.668123734173772\n",
      "for iteration: 345, J = 0.66802572535254\n",
      "for iteration: 346, J = 0.6679279714725754\n",
      "for iteration: 347, J = 0.6678304718671636\n",
      "for iteration: 348, J = 0.6677332258711934\n",
      "for iteration: 349, J = 0.6676362328211571\n",
      "for iteration: 350, J = 0.6675394920551468\n",
      "for iteration: 351, J = 0.6674430029128506\n",
      "for iteration: 352, J = 0.6673467647355505\n",
      "for iteration: 353, J = 0.6672507768661201\n",
      "for iteration: 354, J = 0.6671550386490209\n",
      "for iteration: 355, J = 0.6670595494302987\n",
      "for iteration: 356, J = 0.6669643085575835\n",
      "for iteration: 357, J = 0.6668693153800839\n",
      "for iteration: 358, J = 0.6667745692485849\n",
      "for iteration: 359, J = 0.6666800695154458\n",
      "for iteration: 360, J = 0.6665858155345973\n",
      "for iteration: 361, J = 0.6664918066615376\n",
      "for iteration: 362, J = 0.6663980422533301\n",
      "for iteration: 363, J = 0.6663045216686012\n",
      "for iteration: 364, J = 0.6662112442675364\n",
      "for iteration: 365, J = 0.6661182094118782\n",
      "for iteration: 366, J = 0.6660254164649225\n",
      "for iteration: 367, J = 0.6659328647915165\n",
      "for iteration: 368, J = 0.6658405537580555\n",
      "for iteration: 369, J = 0.6657484827324794\n",
      "for iteration: 370, J = 0.665656651084271\n",
      "for iteration: 371, J = 0.6655650581844523\n",
      "for iteration: 372, J = 0.6654737034055825\n",
      "for iteration: 373, J = 0.6653825861217536\n",
      "for iteration: 374, J = 0.6652917057085886\n",
      "for iteration: 375, J = 0.665201061543239\n",
      "for iteration: 376, J = 0.6651106530043808\n",
      "for iteration: 377, J = 0.6650204794722122\n",
      "for iteration: 378, J = 0.6649305403284514\n",
      "for iteration: 379, J = 0.6648408349563323\n",
      "for iteration: 380, J = 0.6647513627406025\n",
      "for iteration: 381, J = 0.6646621230675206\n",
      "for iteration: 382, J = 0.664573115324853\n",
      "for iteration: 383, J = 0.6644843389018703\n",
      "for iteration: 384, J = 0.6643957931893459\n",
      "for iteration: 385, J = 0.6643074775795522\n",
      "for iteration: 386, J = 0.6642193914662579\n",
      "for iteration: 387, J = 0.6641315342447244\n",
      "for iteration: 388, J = 0.6640439053117052\n",
      "for iteration: 389, J = 0.6639565040654394\n",
      "for iteration: 390, J = 0.6638693299056523\n",
      "for iteration: 391, J = 0.6637823822335509\n",
      "for iteration: 392, J = 0.663695660451821\n",
      "for iteration: 393, J = 0.6636091639646241\n",
      "for iteration: 394, J = 0.6635228921775956\n",
      "for iteration: 395, J = 0.6634368444978411\n",
      "for iteration: 396, J = 0.6633510203339332\n",
      "for iteration: 397, J = 0.66326541909591\n",
      "for iteration: 398, J = 0.6631800401952705\n",
      "for iteration: 399, J = 0.6630948830449725\n",
      "for iteration: 400, J = 0.6630099470594311\n",
      "for iteration: 401, J = 0.6629252316545129\n",
      "for iteration: 402, J = 0.6628407362475349\n",
      "for iteration: 403, J = 0.6627564602572626\n",
      "for iteration: 404, J = 0.6626724031039046\n",
      "for iteration: 405, J = 0.6625885642091127\n",
      "for iteration: 406, J = 0.6625049429959753\n",
      "for iteration: 407, J = 0.6624215388890188\n",
      "for iteration: 408, J = 0.6623383513142008\n",
      "for iteration: 409, J = 0.6622553796989101\n",
      "for iteration: 410, J = 0.6621726234719628\n",
      "for iteration: 411, J = 0.6620900820635988\n",
      "for iteration: 412, J = 0.6620077549054787\n",
      "for iteration: 413, J = 0.6619256414306841\n",
      "for iteration: 414, J = 0.66184374107371\n",
      "for iteration: 415, J = 0.6617620532704662\n",
      "for iteration: 416, J = 0.661680577458271\n",
      "for iteration: 417, J = 0.6615993130758503\n",
      "for iteration: 418, J = 0.6615182595633351\n",
      "for iteration: 419, J = 0.661437416362257\n",
      "for iteration: 420, J = 0.6613567829155467\n",
      "for iteration: 421, J = 0.6612763586675299\n",
      "for iteration: 422, J = 0.6611961430639258\n",
      "for iteration: 423, J = 0.661116135551844\n",
      "for iteration: 424, J = 0.6610363355797803\n",
      "for iteration: 425, J = 0.6609567425976155\n",
      "for iteration: 426, J = 0.6608773560566118\n",
      "for iteration: 427, J = 0.6607981754094099\n",
      "for iteration: 428, J = 0.6607192001100259\n",
      "for iteration: 429, J = 0.6606404296138497\n",
      "for iteration: 430, J = 0.6605618633776403\n",
      "for iteration: 431, J = 0.6604835008595251\n",
      "for iteration: 432, J = 0.660405341518995\n",
      "for iteration: 433, J = 0.6603273848169027\n",
      "for iteration: 434, J = 0.6602496302154596\n",
      "for iteration: 435, J = 0.6601720771782329\n",
      "for iteration: 436, J = 0.6600947251701434\n",
      "for iteration: 437, J = 0.6600175736574618\n",
      "for iteration: 438, J = 0.6599406221078057\n",
      "for iteration: 439, J = 0.6598638699901378\n",
      "for iteration: 440, J = 0.6597873167747627\n",
      "for iteration: 441, J = 0.6597109619333237\n",
      "for iteration: 442, J = 0.6596348049387997\n",
      "for iteration: 443, J = 0.659558845265504\n",
      "for iteration: 444, J = 0.6594830823890794\n",
      "for iteration: 445, J = 0.6594075157864969\n",
      "for iteration: 446, J = 0.6593321449360516\n",
      "for iteration: 447, J = 0.6592569693173616\n",
      "for iteration: 448, J = 0.6591819884113633\n",
      "for iteration: 449, J = 0.6591072017003108\n",
      "for iteration: 450, J = 0.6590326086677699\n",
      "for iteration: 451, J = 0.6589582087986187\n",
      "for iteration: 452, J = 0.6588840015790433\n",
      "for iteration: 453, J = 0.6588099864965333\n",
      "for iteration: 454, J = 0.658736163039883\n",
      "for iteration: 455, J = 0.658662530699185\n",
      "for iteration: 456, J = 0.6585890889658286\n",
      "for iteration: 457, J = 0.6585158373324977\n",
      "for iteration: 458, J = 0.6584427752931673\n",
      "for iteration: 459, J = 0.6583699023431007\n",
      "for iteration: 460, J = 0.658297217978847\n",
      "for iteration: 461, J = 0.6582247216982382\n",
      "for iteration: 462, J = 0.6581524130003862\n",
      "for iteration: 463, J = 0.6580802913856805\n",
      "for iteration: 464, J = 0.6580083563557855\n",
      "for iteration: 465, J = 0.6579366074136361\n",
      "for iteration: 466, J = 0.6578650440634378\n",
      "for iteration: 467, J = 0.6577936658106616\n",
      "for iteration: 468, J = 0.657722472162042\n",
      "for iteration: 469, J = 0.6576514626255745\n",
      "for iteration: 470, J = 0.657580636710513\n",
      "for iteration: 471, J = 0.6575099939273652\n",
      "for iteration: 472, J = 0.6574395337878929\n",
      "for iteration: 473, J = 0.657369255805107\n",
      "for iteration: 474, J = 0.6572991594932652\n",
      "for iteration: 475, J = 0.6572292443678698\n",
      "for iteration: 476, J = 0.6571595099456645\n",
      "for iteration: 477, J = 0.657089955744632\n",
      "for iteration: 478, J = 0.6570205812839904\n",
      "for iteration: 479, J = 0.6569513860841922\n",
      "for iteration: 480, J = 0.6568823696669196\n",
      "for iteration: 481, J = 0.656813531555083\n",
      "for iteration: 482, J = 0.6567448712728182\n",
      "for iteration: 483, J = 0.656676388345483\n",
      "for iteration: 484, J = 0.6566080822996552\n",
      "for iteration: 485, J = 0.6565399526631294\n",
      "for iteration: 486, J = 0.656471998964915\n",
      "for iteration: 487, J = 0.6564042207352323\n",
      "for iteration: 488, J = 0.6563366175055115\n",
      "for iteration: 489, J = 0.6562691888083874\n",
      "for iteration: 490, J = 0.6562019341777\n",
      "for iteration: 491, J = 0.6561348531484891\n",
      "for iteration: 492, J = 0.6560679452569929\n",
      "for iteration: 493, J = 0.6560012100406453\n",
      "for iteration: 494, J = 0.6559346470380722\n",
      "for iteration: 495, J = 0.6558682557890906\n",
      "for iteration: 496, J = 0.6558020358347041\n",
      "for iteration: 497, J = 0.6557359867171009\n",
      "for iteration: 498, J = 0.6556701079796521\n",
      "for iteration: 499, J = 0.6556043991669073\n"
     ]
    }
   ],
   "source": [
    "np.random.seed(1)\n",
    "initial_w = np.random.rand(X_mapped.shape[1])-0.5\n",
    "initial_b = 1.\n",
    "lambda_ = 0.1\n",
    "iterations = 500\n",
    "alpha = 0.005\n",
    "def gradient_descent(X_mapped, y_train, initial_w, initial_b,\n",
    "                                    compute_cost_reg, compute_gradient_reg,\n",
    "                                    alpha, iterations, lambda_):\n",
    "  X, y, w, b = X_mapped, y_train, initial_w, initial_b\n",
    "  J_history = np.zeros(iterations)\n",
    "  for iteration in range(iterations):\n",
    "        total_cost = compute_cost_reg(X, y, w, b, lambda_)\n",
    "        dj_db, dj_dw = compute_gradient_reg(X, y, w, b, lambda_)\n",
    "        b -= alpha*dj_db\n",
    "        w -= alpha*np.mean(dj_dw, axis=0)\n",
    "        J_history[iteration] = total_cost\n",
    "        print(f\"for iteration: {iteration}, J = {total_cost}\") \n",
    "  return w, b, J_history, _\n",
    "\n",
    "w,b, J_history,_ = gradient_descent(X_mapped, y_train, initial_w, initial_b,\n",
    "                                    compute_cost_reg, compute_gradient_reg,\n",
    "                                    alpha, iterations, lambda_)\n"
   ]
  },
  {
   "cell_type": "code",
   "execution_count": 23,
   "metadata": {
    "id": "cqSOrJsTAf9p"
   },
   "outputs": [],
   "source": [
    "#plot decision boundary\n",
    "def plot_decision_boundary(w,b,X,y):\n",
    "\n",
    "    plot_data(X[:, 0:2], y)\n",
    "\n",
    "    if X.shape[1] <= 2:\n",
    "        plot_x = np.array([min(X[:, 0]), max(X[:, 0])])\n",
    "        plot_y = (-1. / w[1]) * (w[0] * plot_x + b)\n",
    "\n",
    "        plt.plot(plot_x, plot_y, c=\"b\")\n",
    "\n",
    "    else:\n",
    "        u = np.linspace(-1, 1.5, 50)\n",
    "        v = np.linspace(-1, 1.5, 50)\n",
    "\n",
    "        z = np.zeros((len(u), len(v)))\n",
    "\n",
    "\n",
    "        for i in range(len(u)):\n",
    "            for j in range(len(v)):\n",
    "                z[i,j] = sigmoid(np.dot(map_feature(u[i], v[j]), w) + b)[0]\n",
    "\n",
    "\n",
    "        z = z.T\n",
    "\n",
    "\n",
    "        plt.contour(u,v,z, levels = [0.5], colors=\"g\")"
   ]
  },
  {
   "cell_type": "code",
   "execution_count": 24,
   "metadata": {
    "id": "etir_m_AAyYC"
   },
   "outputs": [
    {
     "data": {
      "image/png": "[encoded data removed]",
      "text/plain": [
       "<Figure size 640x480 with 1 Axes>"
      ]
     },
     "metadata": {},
     "output_type": "display_data"
    }
   ],
   "source": [
    "plot_decision_boundary(w, b, X_mapped, y_train)"
   ]
  },
  {
   "cell_type": "code",
   "execution_count": 25,
   "metadata": {
    "id": "MD2Dup4OA1ew"
   },
   "outputs": [],
   "source": [
    "#predict your training model\n",
    "def predict(X, w, b):\n",
    "  m,n=X.shape\n",
    "  p=np.zeros(m)\n",
    "  #write your code\n",
    "  z = np.dot(X, w) + b\n",
    "  y_hat = sigmoid(z)\n",
    "  p = (y_hat>=0.5).astype(int)\n",
    "  return p"
   ]
  },
  {
   "cell_type": "code",
   "execution_count": 26,
   "metadata": {
    "id": "TAhIPFIsBTjk"
   },
   "outputs": [
    {
     "name": "stdout",
     "output_type": "stream",
     "text": [
      "Accuracy of training model: 67.796610\n"
     ]
    }
   ],
   "source": [
    "p = predict(X_mapped, w, b)\n",
    "\n",
    "print('Accuracy of training model: %f'%(np.mean(p == y_train) * 100))"
   ]
  }
 ],
 "metadata": {
  "colab": {
   "provenance": []
  },
  "kernelspec": {
   "display_name": "Python 3 (ipykernel)",
   "language": "python",
   "name": "python3"
  },
  "language_info": {
   "codemirror_mode": {
    "name": "ipython",
    "version": 3
   },
   "file_extension": ".py",
   "mimetype": "text/x-python",
   "name": "python",
   "nbconvert_exporter": "python",
   "pygments_lexer": "ipython3",
   "version": "3.12.4"
  }
 },
 "nbformat": 4,
 "nbformat_minor": 4
}
