{
 "cells": [
  {
   "cell_type": "code",
   "execution_count": 1,
   "id": "ab4330c1-0fd4-4aa3-ba9f-182d9d687f39",
   "metadata": {},
   "outputs": [],
   "source": [
    "#import libraries\n",
    "import os\n",
    "import torch\n",
    "import numpy as np\n",
    "import torch.nn as nn\n",
    "import matplotlib.pyplot as plt\n",
    "from skimage import io\n",
    "from torchvision import transforms\n",
    "from torch.utils.data import Dataset\n",
    "from torch.utils.data import DataLoader\n",
    "from sklearn.model_selection import train_test_split"
   ]
  },
  {
   "cell_type": "code",
   "execution_count": 2,
   "id": "d9ae0449-4f66-4143-8ffe-c0daa19e9882",
   "metadata": {},
   "outputs": [],
   "source": [
    "class HomerAndBartDatasets(Dataset):\n",
    "    def __init__(self, image_dir, transform=None):\n",
    "        self.image_dir = image_dir\n",
    "        self.transform = transform\n",
    "        self.images = os.listdir(image_dir)\n",
    "\n",
    "    def __len__(self):\n",
    "        return len(self.images)\n",
    "\n",
    "    def __getitem__(self, index):\n",
    "        image_path = os.path.join(self.image_dir, self.images[index])\n",
    "        image = io.imread(image_path)\n",
    "        if self.transform is not None:\n",
    "            image = self.transform(image)\n",
    "            #image = np.array(image.reshape(1,-1))\n",
    "            #image = torch.from_numpy(image)\n",
    "            image = image.view(-1)\n",
    "\n",
    "        return image"
   ]
  },
  {
   "cell_type": "code",
   "execution_count": 3,
   "id": "fc291f21-9799-4039-b6a0-54546f3541e3",
   "metadata": {},
   "outputs": [],
   "source": [
    "class CombinedDataset(Dataset):\n",
    "    def __init__(self, dataset_A, dataset_B):\n",
    "        self.dataset_A = dataset_A\n",
    "        self.dataset_B = dataset_B\n",
    "\n",
    "    def __len__(self):\n",
    "        return len(self.dataset_A) + len(self.dataset_B)\n",
    "\n",
    "    def __getitem__(self, index):\n",
    "        data = self.dataset_A[index] if index < len(self.dataset_A) else self.dataset_B[index - len(self.dataset_A)] \n",
    "        return data"
   ]
  },
  {
   "cell_type": "code",
   "execution_count": 4,
   "id": "8a683c94-e6d1-4caa-a311-d89e2417b27d",
   "metadata": {},
   "outputs": [],
   "source": [
    "class Model(nn.Module):\n",
    "    def __init__(self, input_size, hidden_units_1, hidden_units_2, hidden_units_3, output_size):\n",
    "        super(Model, self).__init__()\n",
    "        self.layer1 = nn.Linear(input_size, hidden_units_1)\n",
    "        self.layer2 = nn.Linear(hidden_units_1, hidden_units_2)\n",
    "        self.layer3 = nn.Linear(hidden_units_2, hidden_units_3)\n",
    "        self.out_layer = nn.Linear(hidden_units_3, output_size)\n",
    "        self.relu = nn.LeakyReLU()\n",
    "        self.sigmoid = nn.Sigmoid()\n",
    "\n",
    "    def forward(self, x):\n",
    "        z_1 = self.layer1(x)\n",
    "        a_1 = self.relu(z_1)\n",
    "        z_2 = self.layer2(a_1)\n",
    "        a_2 = self.relu(z_2)\n",
    "        z_3 = self.layer3(a_2)\n",
    "        a_3 = self.relu(z_3)\n",
    "        z_4 = self.out_layer(a_3)\n",
    "        a_4 = self.sigmoid(z_4)\n",
    "        return a_4"
   ]
  },
  {
   "cell_type": "code",
   "execution_count": 209,
   "id": "355ca7aa-7e9d-4884-9196-9e5123308ab2",
   "metadata": {},
   "outputs": [
    {
     "name": "stdout",
     "output_type": "stream",
     "text": [
      "tensor([2.2489, 2.2489, 2.2489,  ..., 2.6400, 2.6400, 2.6400])\n"
     ]
    }
   ],
   "source": [
    "transform = transforms.Compose([\n",
    "    transforms.ToTensor(),\n",
    "    #transforms.Grayscale(),\n",
    "    transforms.Resize((64, 64)),\n",
    "    transforms.Normalize(           \n",
    "        mean=[0.485, 0.456, 0.406],  \n",
    "        std=[0.229, 0.224, 0.225])\n",
    "])\n",
    "\n",
    "homer_dataset = HomerAndBartDatasets(image_dir = \"./homer_bart/Homer\", transform=transform)\n",
    "bart_dataset = HomerAndBartDatasets(image_dir = \"./homer_bart/bart\", transform=transform)\n",
    "\n",
    "X = CombinedDataset(homer_dataset, bart_dataset)\n",
    "y = torch.cat((torch.ones(len(homer_dataset)) ,torch.zeros(len(bart_dataset))),dim=0)\n",
    "\n",
    "X_train, X_test, y_train, y_test = train_test_split(X ,y, train_size = 0.9, random_state = 10)\n",
    "\n",
    "input_size = 12288\n",
    "print(X_train[0])\n",
    "hidden_units_1 = 128\n",
    "hidden_units_2 = 512\n",
    "hidden_units_3 = 128\n",
    "output_size = 1\n",
    "model = Model(input_size, hidden_units_1, hidden_units_2, hidden_units_3, output_size)"
   ]
  },
  {
   "cell_type": "code",
   "execution_count": 226,
   "id": "849370ee-3628-48b2-9964-9e1da3c90149",
   "metadata": {},
   "outputs": [
    {
     "name": "stdout",
     "output_type": "stream",
     "text": [
      "torch.Size([242, 12288])\n",
      "tensor(5.8249e-12, grad_fn=<BinaryCrossEntropyBackward0>)\n",
      "tensor(4.5226e-12, grad_fn=<BinaryCrossEntropyBackward0>)\n",
      "tensor(3.3737e-12, grad_fn=<BinaryCrossEntropyBackward0>)\n",
      "tensor(2.5013e-12, grad_fn=<BinaryCrossEntropyBackward0>)\n",
      "tensor(2.1766e-12, grad_fn=<BinaryCrossEntropyBackward0>)\n"
     ]
    }
   ],
   "source": [
    "loss_fn = nn.BCELoss()\n",
    "learning_rate = 0.0001\n",
    "iterations = 5000\n",
    "new_X = torch.stack(X_train)\n",
    "print(new_X.shape)\n",
    "new_y = y_train.reshape(-1,1)\n",
    "optimizer = torch.optim.Adam(model.parameters(), lr=learning_rate)\n",
    "for iteration in range(iterations):\n",
    "        y_pred = model(new_X)\n",
    "        loss = loss_fn(y_pred, new_y)\n",
    "        optimizer.zero_grad()\n",
    "        if (iteration)%1000 == 0:\n",
    "            print(loss)\n",
    "        loss.backward()\n",
    "        optimizer.step()"
   ]
  },
  {
   "cell_type": "code",
   "execution_count": 227,
   "id": "dee57d28-831e-48f0-aadc-b448c64f31b7",
   "metadata": {},
   "outputs": [],
   "source": [
    "def predict(model, X_test, y_test):\n",
    "    y_pred = model(X_test)\n",
    "    #print(y_pred)\n",
    "    #print(y_test)\n",
    "    #plt.scatter(y_test.detach().numpy(), y_pred.detach().numpy())\n",
    "    #plt.show()\n",
    "    predictions = (y_pred > 0.5).float()\n",
    "    #print(predictions)\n",
    "    accuracy = torch.sum((predictions == y_test)).item()/predictions.shape[0]*100\n",
    "    return accuracy"
   ]
  },
  {
   "cell_type": "code",
   "execution_count": 228,
   "id": "ee3416b0-3d74-4b7b-b990-8c77e8e92bc5",
   "metadata": {},
   "outputs": [
    {
     "name": "stdout",
     "output_type": "stream",
     "text": [
      "Accuracy = 85.19%\n"
     ]
    }
   ],
   "source": [
    "X_test_new = torch.stack(X_test)\n",
    "y_test_new = y_test.reshape(-1,1)\n",
    "acc = predict(model, X_test_new, y_test_new)\n",
    "print(\"Accuracy = {:.2f}%\".format(acc))"
   ]
  }
 ],
 "metadata": {
  "kernelspec": {
   "display_name": "Python 3 (ipykernel)",
   "language": "python",
   "name": "python3"
  },
  "language_info": {
   "codemirror_mode": {
    "name": "ipython",
    "version": 3
   },
   "file_extension": ".py",
   "mimetype": "text/x-python",
   "name": "python",
   "nbconvert_exporter": "python",
   "pygments_lexer": "ipython3",
   "version": "3.12.3"
  }
 },
 "nbformat": 4,
 "nbformat_minor": 5
}
